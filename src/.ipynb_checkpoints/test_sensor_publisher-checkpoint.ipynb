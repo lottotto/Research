{
 "cells": [
  {
   "cell_type": "code",
   "execution_count": 73,
   "metadata": {},
   "outputs": [],
   "source": [
    "import json\n",
    "import paho.mqtt.client as mqtt"
   ]
  },
  {
   "cell_type": "code",
   "execution_count": 74,
   "metadata": {},
   "outputs": [],
   "source": [
    "host = \"www.ds.se.shibaura-it.ac.jp\"\n",
    "topic = \"/saito/training/201802/shelter/sensor/sh47517777\""
   ]
  },
  {
   "cell_type": "code",
   "execution_count": 75,
   "metadata": {},
   "outputs": [],
   "source": [
    "send_data = {\"tmp\":40, \"hum\":40, \"lux\":700, \"co2\":456}\n",
    "send_message = json.dumps(send_data)"
   ]
  },
  {
   "cell_type": "code",
   "execution_count": 76,
   "metadata": {},
   "outputs": [
    {
     "data": {
      "text/plain": [
       "'{\"tmp\": 40, \"hum\": 40, \"lux\": 700, \"co2\": 456}'"
      ]
     },
     "execution_count": 76,
     "metadata": {},
     "output_type": "execute_result"
    }
   ],
   "source": [
    "send_message"
   ]
  },
  {
   "cell_type": "code",
   "execution_count": 77,
   "metadata": {
    "scrolled": true
   },
   "outputs": [
    {
     "data": {
      "text/plain": [
       "0"
      ]
     },
     "execution_count": 77,
     "metadata": {},
     "output_type": "execute_result"
    }
   ],
   "source": [
    "client = mqtt.Client(protocol=mqtt.MQTTv311)\n",
    "client.connect(host, port=1883, keepalive=60)\n",
    "client.publish(topic, send_message)\n",
    "client.disconnect()"
   ]
  },
  {
   "cell_type": "code",
   "execution_count": 8,
   "metadata": {},
   "outputs": [],
   "source": [
    "hoge = {'a':123, 'b':456}"
   ]
  },
  {
   "cell_type": "code",
   "execution_count": 11,
   "metadata": {},
   "outputs": [
    {
     "name": "stdout",
     "output_type": "stream",
     "text": [
      "a 123\n",
      "b 456\n"
     ]
    }
   ],
   "source": [
    "for k, v in hoge.items():\n",
    "    print(k, v)"
   ]
  },
  {
   "cell_type": "code",
   "execution_count": 7,
   "metadata": {},
   "outputs": [
    {
     "data": {
      "text/plain": [
       "{'a': 789}"
      ]
     },
     "execution_count": 7,
     "metadata": {},
     "output_type": "execute_result"
    }
   ],
   "source": [
    "hoge"
   ]
  },
  {
   "cell_type": "code",
   "execution_count": 14,
   "metadata": {},
   "outputs": [],
   "source": [
    "?next()"
   ]
  },
  {
   "cell_type": "code",
   "execution_count": 1,
   "metadata": {},
   "outputs": [],
   "source": [
    "import json\n",
    "import time\n",
    "import datetime\n",
    "import threading\n",
    "import paho.mqtt.client as mqtt"
   ]
  },
  {
   "cell_type": "code",
   "execution_count": 2,
   "metadata": {},
   "outputs": [],
   "source": [
    "host= \"www.ds.se.shibaura-it.ac.jp\"\n",
    "publish_topic_base =    \"/saito/training/201802/shelter/app/\"\n",
    "subscribe_topic_base =  \"/saito/training/201802/shelter/support/\"\n",
    "port = 1883\n",
    "threads = {}"
   ]
  },
  {
   "cell_type": "code",
   "execution_count": 3,
   "metadata": {},
   "outputs": [],
   "source": [
    "class AgentBase():\n",
    "    def __init__(self, agent_ID, agent_STATE):\n",
    "        self.agent_ID = agent_ID\n",
    "        self.agent_state = agent_STATE\n",
    "        self.thread_flag = False\n",
    "    def publish(self, pub_host, pub_topic):\n",
    "        publish_MQTT_client = mqtt.Client(client_id=\"publish_\"+str(self.agent_ID))\n",
    "        publish_MQTT_client.connect(host=pub_host, port=1883,keepalive=60)\n",
    "        message = json.dumps(self.agent_state)\n",
    "        publish_MQTT_client.publish(topic=pub_topic, payload=message)\n",
    "        publish_MQTT_client.disconnect()\n",
    "    def subscribe(self, sub_host, sub_topic):\n",
    "\n",
    "        def on_connect(client, userdata, flags, respons_code):\n",
    "            client.subscribe(sub_topic)\n",
    "                \n",
    "        def on_message(client, userdata, msg):\n",
    "            new_agent_state = json.loads(msg.payload.decode())\n",
    "            for key, value in new_agent_state.items():\n",
    "                self.agent_state[key] = value\n",
    "            print(\"エージェントID:{}の状態が変化しました\".format(self.agent_ID))\n",
    "\n",
    "        subscribe_MQTT_client = mqtt.Client(client_id=\"subscribe_\"+str(self.agent_ID))\n",
    "        subscribe_MQTT_client.on_connect = on_connect\n",
    "        subscribe_MQTT_client.on_message = on_message\n",
    "        \n",
    "        subscribe_MQTT_client.connect(host=sub_host, port=1883, keepalive=60)\n",
    "        while not self.thread_flag:\n",
    "            subscribe_MQTT_client.loop()"
   ]
  },
  {
   "cell_type": "code",
   "execution_count": 5,
   "metadata": {},
   "outputs": [],
   "source": [
    "test_agent_base_class = AgentBase(1,{'state':'test' })"
   ]
  },
  {
   "cell_type": "code",
   "execution_count": 6,
   "metadata": {},
   "outputs": [],
   "source": [
    "test_agent_base_class.publish(host, pub_topic='/saito/test')"
   ]
  },
  {
   "cell_type": "code",
   "execution_count": 7,
   "metadata": {
    "scrolled": false
   },
   "outputs": [],
   "source": [
    "thread = threading.Thread(target=test_agent_base_class.subscribe, args=(host, '/saito/test'))"
   ]
  },
  {
   "cell_type": "code",
   "execution_count": 15,
   "metadata": {},
   "outputs": [
    {
     "name": "stdout",
     "output_type": "stream",
     "text": [
      "{'state': 'test', 'new_state2': 'hugahuga'}\n",
      "True\n"
     ]
    }
   ],
   "source": [
    "print(test_agent_base_class.agent_state)\n",
    "print(test_agent_base_class.thread_flags)"
   ]
  },
  {
   "cell_type": "code",
   "execution_count": 8,
   "metadata": {},
   "outputs": [],
   "source": [
    "thread.start()"
   ]
  },
  {
   "cell_type": "code",
   "execution_count": 16,
   "metadata": {},
   "outputs": [
    {
     "data": {
      "text/plain": [
       "0"
      ]
     },
     "execution_count": 16,
     "metadata": {},
     "output_type": "execute_result"
    }
   ],
   "source": [
    "MQTT_client = mqtt.Client()\n",
    "MQTT_client.connect(host)\n",
    "MQTT_client.publish('/saito/training/201802/shelter/support/sh87654321',json.dumps({'new_state3':'aaaaaa'}))\n",
    "MQTT_client.disconnect()"
   ]
  },
  {
   "cell_type": "code",
   "execution_count": 13,
   "metadata": {},
   "outputs": [
    {
     "data": {
      "text/plain": [
       "False"
      ]
     },
     "execution_count": 13,
     "metadata": {},
     "output_type": "execute_result"
    }
   ],
   "source": [
    "thread.is_alive()"
   ]
  },
  {
   "cell_type": "code",
   "execution_count": 12,
   "metadata": {},
   "outputs": [],
   "source": [
    "test_agent_base_class.thread_flags = True"
   ]
  },
  {
   "cell_type": "code",
   "execution_count": 4,
   "metadata": {},
   "outputs": [],
   "source": [
    "class Agent(AgentBase):\n",
    "    def __init__(self, agent_id, agent_state):\n",
    "        super().__init__(agent_ID=agent_id, agent_STATE=agent_state)\n",
    "        publish_topic = publish_topic_base + self.agent_state['code']\n",
    "        subscribe_topic = subscribe_topic_base + self.agent_state['code']\n",
    "        super().publish(pub_host=host, pub_topic=publish_topic)\n",
    "        self.temp_thread = threading.Thread(target=super().subscribe, args=(host, subscribe_topic))\n",
    "        self.temp_thread.start()\n",
    "        \n",
    "    def step(self, *args, **kwargs):\n",
    "        print(\"Step処理実行中\")\n",
    "        pass\n",
    "    \n",
    "    def terminate(self):\n",
    "        print(\"終了処理\")\n",
    "        self.thread_flag = True"
   ]
  },
  {
   "cell_type": "code",
   "execution_count": 11,
   "metadata": {},
   "outputs": [],
   "source": [
    "test_agent1 = Agent(1, {'code':'sh12345678'})\n",
    "test_agent2 = Agent(2, {'code':'sh87654321'})"
   ]
  },
  {
   "cell_type": "code",
   "execution_count": 17,
   "metadata": {},
   "outputs": [
    {
     "name": "stdout",
     "output_type": "stream",
     "text": [
      "{'code': 'sh12345678'}\n",
      "{'code': 'sh87654321', 'new_state3': 'aaaaaa'}\n"
     ]
    }
   ],
   "source": [
    "print(test_agent1.agent_state)\n",
    "print(test_agent2.agent_state)"
   ]
  },
  {
   "cell_type": "code",
   "execution_count": 10,
   "metadata": {},
   "outputs": [
    {
     "data": {
      "text/plain": [
       "False"
      ]
     },
     "execution_count": 10,
     "metadata": {},
     "output_type": "execute_result"
    }
   ],
   "source": [
    "test_agent1.temp_thread.isAlive()"
   ]
  },
  {
   "cell_type": "code",
   "execution_count": 8,
   "metadata": {},
   "outputs": [
    {
     "name": "stdout",
     "output_type": "stream",
     "text": [
      "Step処理実行中\n"
     ]
    }
   ],
   "source": [
    "test_agent1.step()"
   ]
  },
  {
   "cell_type": "code",
   "execution_count": 15,
   "metadata": {},
   "outputs": [
    {
     "name": "stdout",
     "output_type": "stream",
     "text": [
      "終了処理\n",
      "終了処理\n"
     ]
    }
   ],
   "source": [
    "test_agent1.terminate()\n",
    "test_agent2.terminate()"
   ]
  },
  {
   "cell_type": "code",
   "execution_count": 19,
   "metadata": {},
   "outputs": [],
   "source": [
    "class AgentSet():\n",
    "    def __init__(self):\n",
    "        agents = []\n",
    "    def _defAgent(self, agent_id, agent_state):\n",
    "        class _Agent(AgentBase):\n",
    "            def __init__(self, agent_id, agent_state):\n",
    "                super().__init__(agent_ID=agent_id, agent_STATE=agent_state)\n",
    "                publish_topic = publish_topic_base + self.agent_state['code']\n",
    "                subscribe_topic = subscribe_topic_base + self.agent_state['code']\n",
    "                super().publish(pub_host=host, pub_topic=publish_topic)\n",
    "                self.temp_thread = threading.Thread(target=super().subscribe, args=(host, subscribe_topic))\n",
    "                self.temp_thread.start()\n",
    "\n",
    "            def step(self, *args, **kwargs):\n",
    "                print(\"Step処理実行中\")\n",
    "                pass\n",
    "\n",
    "            def terminate(self):\n",
    "                print(\"終了処理\")\n",
    "                self.thread_flag = True\n",
    "        return _Agent(agent_id, agent_state)\n",
    "    \n",
    "    def generateAgent(self, n):\n",
    "        for i in range(n):\n",
    "            temp_agent = _defAgent(i, {'code':'sh'+str(10000000+i)})\n",
    "            self.agents.append(temp_agent)"
   ]
  },
  {
   "cell_type": "code",
   "execution_count": null,
   "metadata": {},
   "outputs": [],
   "source": []
  }
 ],
 "metadata": {
  "kernelspec": {
   "display_name": "Python 3",
   "language": "python",
   "name": "python3"
  },
  "language_info": {
   "codemirror_mode": {
    "name": "ipython",
    "version": 3
   },
   "file_extension": ".py",
   "mimetype": "text/x-python",
   "name": "python",
   "nbconvert_exporter": "python",
   "pygments_lexer": "ipython3",
   "version": "3.6.3"
  }
 },
 "nbformat": 4,
 "nbformat_minor": 2
}
