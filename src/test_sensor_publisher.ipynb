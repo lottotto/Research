{
 "cells": [
  {
   "cell_type": "code",
   "execution_count": 73,
   "metadata": {},
   "outputs": [],
   "source": [
    "import json\n",
    "import paho.mqtt.client as mqtt"
   ]
  },
  {
   "cell_type": "code",
   "execution_count": 74,
   "metadata": {},
   "outputs": [],
   "source": [
    "host = \"www.ds.se.shibaura-it.ac.jp\"\n",
    "topic = \"/saito/training/201802/shelter/sensor/sh47517777\""
   ]
  },
  {
   "cell_type": "code",
   "execution_count": 75,
   "metadata": {},
   "outputs": [],
   "source": [
    "send_data = {\"tmp\":40, \"hum\":40, \"lux\":700, \"co2\":456}\n",
    "send_message = json.dumps(send_data)"
   ]
  },
  {
   "cell_type": "code",
   "execution_count": 76,
   "metadata": {},
   "outputs": [
    {
     "data": {
      "text/plain": [
       "'{\"tmp\": 40, \"hum\": 40, \"lux\": 700, \"co2\": 456}'"
      ]
     },
     "execution_count": 76,
     "metadata": {},
     "output_type": "execute_result"
    }
   ],
   "source": [
    "send_message"
   ]
  },
  {
   "cell_type": "code",
   "execution_count": 77,
   "metadata": {
    "scrolled": true
   },
   "outputs": [
    {
     "data": {
      "text/plain": [
       "0"
      ]
     },
     "execution_count": 77,
     "metadata": {},
     "output_type": "execute_result"
    }
   ],
   "source": [
    "client = mqtt.Client(protocol=mqtt.MQTTv311)\n",
    "client.connect(host, port=1883, keepalive=60)\n",
    "client.publish(topic, send_message)\n",
    "client.disconnect()"
   ]
  },
  {
   "cell_type": "code",
   "execution_count": 8,
   "metadata": {},
   "outputs": [],
   "source": [
    "hoge = {'a':123, 'b':456}"
   ]
  },
  {
   "cell_type": "code",
   "execution_count": 11,
   "metadata": {},
   "outputs": [
    {
     "name": "stdout",
     "output_type": "stream",
     "text": [
      "a 123\n",
      "b 456\n"
     ]
    }
   ],
   "source": [
    "for k, v in hoge.items():\n",
    "    print(k, v)"
   ]
  },
  {
   "cell_type": "code",
   "execution_count": 7,
   "metadata": {},
   "outputs": [
    {
     "data": {
      "text/plain": [
       "{'a': 789}"
      ]
     },
     "execution_count": 7,
     "metadata": {},
     "output_type": "execute_result"
    }
   ],
   "source": [
    "hoge"
   ]
  },
  {
   "cell_type": "code",
   "execution_count": 14,
   "metadata": {},
   "outputs": [],
   "source": [
    "?next()"
   ]
  },
  {
   "cell_type": "code",
   "execution_count": 49,
   "metadata": {},
   "outputs": [],
   "source": [
    "import json\n",
    "import time\n",
    "import datetime\n",
    "import threading\n",
    "import paho.mqtt.client as mqtt"
   ]
  },
  {
   "cell_type": "code",
   "execution_count": 50,
   "metadata": {},
   "outputs": [],
   "source": [
    "host= \"www.ds.se.shibaura-it.ac.jp\"\n",
    "publish_topic_base =    \"/saito/training/201802/shelter/app/\"\n",
    "subscribe_topic_base =  \"/saito/training/201802/shelter/support/\"\n",
    "port = 1883\n",
    "threads = {}"
   ]
  },
  {
   "cell_type": "code",
   "execution_count": 3,
   "metadata": {},
   "outputs": [],
   "source": [
    "class AgentBase():\n",
    "    def __init__(self, agent_ID, agent_STATE):\n",
    "        self.agent_ID = agent_ID\n",
    "        self.agent_state = agent_STATE\n",
    "        self.thread_flag = False\n",
    "    def publish(self, pub_host, pub_topic):\n",
    "        publish_MQTT_client = mqtt.Client(client_id=\"publish_\"+str(self.agent_ID))\n",
    "        publish_MQTT_client.connect(host=pub_host, port=1883,keepalive=60)\n",
    "        message = json.dumps(self.agent_state)\n",
    "        publish_MQTT_client.publish(topic=pub_topic, payload=message)\n",
    "        publish_MQTT_client.disconnect()\n",
    "    def subscribe(self, sub_host, sub_topic):\n",
    "\n",
    "        def on_connect(client, userdata, flags, respons_code):\n",
    "            client.subscribe(sub_topic)\n",
    "                \n",
    "        def on_message(client, userdata, msg):\n",
    "            new_agent_state = json.loads(msg.payload.decode())\n",
    "            for key, value in new_agent_state.items():\n",
    "                self.agent_state[key] = value\n",
    "            print(\"エージェントID:{}の状態が変化しました\".format(self.agent_ID))\n",
    "\n",
    "        subscribe_MQTT_client = mqtt.Client(client_id=\"subscribe_\"+str(self.agent_ID))\n",
    "        subscribe_MQTT_client.on_connect = on_connect\n",
    "        subscribe_MQTT_client.on_message = on_message\n",
    "        \n",
    "        subscribe_MQTT_client.connect(host=sub_host, port=1883, keepalive=60)\n",
    "        while not self.thread_flag:\n",
    "            subscribe_MQTT_client.loop()"
   ]
  },
  {
   "cell_type": "code",
   "execution_count": 5,
   "metadata": {},
   "outputs": [],
   "source": [
    "test_agent_base_class = AgentBase(1,{'state':'test' })"
   ]
  },
  {
   "cell_type": "code",
   "execution_count": 6,
   "metadata": {},
   "outputs": [],
   "source": [
    "test_agent_base_class.publish(host, pub_topic='/saito/test')"
   ]
  },
  {
   "cell_type": "code",
   "execution_count": 7,
   "metadata": {
    "scrolled": false
   },
   "outputs": [],
   "source": [
    "thread = threading.Thread(target=test_agent_base_class.subscribe, args=(host, '/saito/test'))"
   ]
  },
  {
   "cell_type": "code",
   "execution_count": 15,
   "metadata": {},
   "outputs": [
    {
     "name": "stdout",
     "output_type": "stream",
     "text": [
      "{'state': 'test', 'new_state2': 'hugahuga'}\n",
      "True\n"
     ]
    }
   ],
   "source": [
    "print(test_agent_base_class.agent_state)\n",
    "print(test_agent_base_class.thread_flags)"
   ]
  },
  {
   "cell_type": "code",
   "execution_count": 8,
   "metadata": {},
   "outputs": [],
   "source": [
    "thread.start()"
   ]
  },
  {
   "cell_type": "code",
   "execution_count": 52,
   "metadata": {},
   "outputs": [
    {
     "data": {
      "text/plain": [
       "0"
      ]
     },
     "execution_count": 52,
     "metadata": {},
     "output_type": "execute_result"
    }
   ],
   "source": [
    "MQTT_client = mqtt.Client()\n",
    "MQTT_client.connect(host)\n",
    "MQTT_client.publish('/saito/training/201802/shelter/support/sh30406024',json.dumps({'new_state3':'aaaaaa'}))\n",
    "MQTT_client.disconnect()"
   ]
  },
  {
   "cell_type": "code",
   "execution_count": 13,
   "metadata": {},
   "outputs": [
    {
     "data": {
      "text/plain": [
       "False"
      ]
     },
     "execution_count": 13,
     "metadata": {},
     "output_type": "execute_result"
    }
   ],
   "source": [
    "thread.is_alive()"
   ]
  },
  {
   "cell_type": "code",
   "execution_count": 12,
   "metadata": {},
   "outputs": [],
   "source": [
    "test_agent_base_class.thread_flags = True"
   ]
  },
  {
   "cell_type": "code",
   "execution_count": 4,
   "metadata": {},
   "outputs": [],
   "source": [
    "class Agent(AgentBase):\n",
    "    def __init__(self, agent_id, agent_state):\n",
    "        super().__init__(agent_ID=agent_id, agent_STATE=agent_state)\n",
    "        publish_topic = publish_topic_base + self.agent_state['code']\n",
    "        subscribe_topic = subscribe_topic_base + self.agent_state['code']\n",
    "        super().publish(pub_host=host, pub_topic=publish_topic)\n",
    "        self.temp_thread = threading.Thread(target=super().subscribe, args=(host, subscribe_topic))\n",
    "        self.temp_thread.start()\n",
    "        \n",
    "    def step(self, *args, **kwargs):\n",
    "        print(\"Step処理実行中\")\n",
    "        pass\n",
    "    \n",
    "    def terminate(self):\n",
    "        print(\"終了処理\")\n",
    "        self.thread_flag = True"
   ]
  },
  {
   "cell_type": "code",
   "execution_count": 11,
   "metadata": {},
   "outputs": [],
   "source": [
    "test_agent1 = Agent(1, {'code':'sh12345678'})\n",
    "test_agent2 = Agent(2, {'code':'sh87654321'})"
   ]
  },
  {
   "cell_type": "code",
   "execution_count": 17,
   "metadata": {},
   "outputs": [
    {
     "name": "stdout",
     "output_type": "stream",
     "text": [
      "{'code': 'sh12345678'}\n",
      "{'code': 'sh87654321', 'new_state3': 'aaaaaa'}\n"
     ]
    }
   ],
   "source": [
    "print(test_agent1.agent_state)\n",
    "print(test_agent2.agent_state)"
   ]
  },
  {
   "cell_type": "code",
   "execution_count": 10,
   "metadata": {},
   "outputs": [
    {
     "data": {
      "text/plain": [
       "False"
      ]
     },
     "execution_count": 10,
     "metadata": {},
     "output_type": "execute_result"
    }
   ],
   "source": [
    "test_agent1.temp_thread.isAlive()"
   ]
  },
  {
   "cell_type": "code",
   "execution_count": 8,
   "metadata": {},
   "outputs": [
    {
     "name": "stdout",
     "output_type": "stream",
     "text": [
      "Step処理実行中\n"
     ]
    }
   ],
   "source": [
    "test_agent1.step()"
   ]
  },
  {
   "cell_type": "code",
   "execution_count": 15,
   "metadata": {},
   "outputs": [
    {
     "name": "stdout",
     "output_type": "stream",
     "text": [
      "終了処理\n",
      "終了処理\n"
     ]
    }
   ],
   "source": [
    "test_agent1.terminate()\n",
    "test_agent2.terminate()"
   ]
  },
  {
   "cell_type": "code",
   "execution_count": 24,
   "metadata": {},
   "outputs": [],
   "source": [
    "class AgentSet():\n",
    "    def __init__(self):\n",
    "        self.agents = []\n",
    "    def define_agent(self, agent_id, agent_state):\n",
    "        class _Agent(AgentBase):\n",
    "            def __init__(self, agent_id, agent_state):\n",
    "                super().__init__(agent_ID=agent_id, agent_STATE=agent_state)\n",
    "                publish_topic = publish_topic_base + self.agent_state['code']\n",
    "                subscribe_topic = subscribe_topic_base + self.agent_state['code']\n",
    "                super().publish(pub_host=host, pub_topic=publish_topic)\n",
    "                self.temp_thread = threading.Thread(target=super().subscribe, args=(host, subscribe_topic))\n",
    "                self.temp_thread.start()\n",
    "\n",
    "            def step(self, *args, **kwargs):\n",
    "                print(\"Step処理実行\")\n",
    "                pass\n",
    "\n",
    "            def terminate(self):\n",
    "                print(\"終了処理\")\n",
    "                self.thread_flag = True\n",
    "                \n",
    "        return _Agent(agent_id, agent_state)\n",
    "    \n",
    "    def generate_agent(self, n):\n",
    "        for i in range(n):\n",
    "            temp_agent = self.define_agent(i, {'code':'sh'+str(10000000+i)})\n",
    "            self.agents.append(temp_agent)\n",
    "            \n",
    "    def step(self):\n",
    "        for agent in self.agents:\n",
    "            agent.step()\n",
    "            \n",
    "    def terminate_agent(self):\n",
    "        for agent in self.agents:\n",
    "            agent.terminate()"
   ]
  },
  {
   "cell_type": "code",
   "execution_count": 25,
   "metadata": {},
   "outputs": [],
   "source": [
    "test_agent_set = AgentSet()"
   ]
  },
  {
   "cell_type": "code",
   "execution_count": 26,
   "metadata": {},
   "outputs": [],
   "source": [
    "test_agent_set.generateAgent(3)"
   ]
  },
  {
   "cell_type": "code",
   "execution_count": 30,
   "metadata": {},
   "outputs": [
    {
     "data": {
      "text/plain": [
       "{'code': 'sh10000002', 'new_state3': 'aaaaaa'}"
      ]
     },
     "execution_count": 30,
     "metadata": {},
     "output_type": "execute_result"
    }
   ],
   "source": []
  },
  {
   "cell_type": "code",
   "execution_count": 1,
   "metadata": {},
   "outputs": [],
   "source": [
    "import csv\n",
    "import pandas as pd"
   ]
  },
  {
   "cell_type": "code",
   "execution_count": 39,
   "metadata": {},
   "outputs": [],
   "source": [
    "df = pd.read_csv('shelter_data.csv')\n",
    "df.to_csv('hoge.csv')"
   ]
  },
  {
   "cell_type": "code",
   "execution_count": 45,
   "metadata": {},
   "outputs": [],
   "source": [
    "f = open('hoge.csv','r')\n",
    "reader = csv.reader(f)"
   ]
  },
  {
   "cell_type": "code",
   "execution_count": 46,
   "metadata": {},
   "outputs": [],
   "source": [
    "header = next(reader)"
   ]
  },
  {
   "cell_type": "code",
   "execution_count": 47,
   "metadata": {},
   "outputs": [
    {
     "data": {
      "text/plain": [
       "['番号',\n",
       " '施設名',\n",
       " 'lat',\n",
       " 'lon',\n",
       " '所在地',\n",
       " '収容人数',\n",
       " '連絡先',\n",
       " '避難者数',\n",
       " '内訳男性',\n",
       " '内訳女性',\n",
       " '飲料水',\n",
       " '食事',\n",
       " '使用可能トイレ',\n",
       " '電気',\n",
       " 'ガス',\n",
       " '生活用水',\n",
       " '固定電話',\n",
       " '携帯電話',\n",
       " 'データ通信',\n",
       " '救護所設置',\n",
       " '医療チームの巡回',\n",
       " '昼間人数',\n",
       " '夜間人数',\n",
       " '75歳以上',\n",
       " '未就学児',\n",
       " '過密度',\n",
       " '毛布等寝具',\n",
       " '室温度管理',\n",
       " '手洗い環境',\n",
       " 'トイレ掃除',\n",
       " '土足禁止',\n",
       " '下水',\n",
       " 'ごみ集積場所',\n",
       " '館内禁煙',\n",
       " 'ペット収容所',\n",
       " '下痢',\n",
       " '嘔吐',\n",
       " '咳・痰',\n",
       " '発熱',\n",
       " '人工呼吸器',\n",
       " '在宅酸素',\n",
       " '透析',\n",
       " '糖尿病（要インスリン）',\n",
       " '緊急性のある精神疾患',\n",
       " '緊急歯科要治療',\n",
       " '緊急処置を要する妊婦',\n",
       " '要配慮者',\n",
       " 'うち医療的配慮者',\n",
       " 'うち福祉的配慮者',\n",
       " 'うち外国人',\n",
       " 'インフルエンザ',\n",
       " '感染性胃腸炎',\n",
       " '食中毒',\n",
       " 'その他緊急事項']"
      ]
     },
     "execution_count": 47,
     "metadata": {},
     "output_type": "execute_result"
    }
   ],
   "source": [
    "header"
   ]
  },
  {
   "cell_type": "code",
   "execution_count": null,
   "metadata": {},
   "outputs": [],
   "source": []
  }
 ],
 "metadata": {
  "kernelspec": {
   "display_name": "Python 3",
   "language": "python",
   "name": "python3"
  },
  "language_info": {
   "codemirror_mode": {
    "name": "ipython",
    "version": 3
   },
   "file_extension": ".py",
   "mimetype": "text/x-python",
   "name": "python",
   "nbconvert_exporter": "python",
   "pygments_lexer": "ipython3",
   "version": "3.6.3"
  }
 },
 "nbformat": 4,
 "nbformat_minor": 2
}
